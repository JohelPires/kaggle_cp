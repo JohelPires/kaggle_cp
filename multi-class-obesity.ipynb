{
 "cells": [
  {
   "cell_type": "code",
   "execution_count": 1,
   "id": "c81660e9",
   "metadata": {
    "_cell_guid": "b1076dfc-b9ad-4769-8c92-a6c4dae69d19",
    "_uuid": "8f2839f25d086af736a60e9eeb907d3b93b6e0e5",
    "execution": {
     "iopub.execute_input": "2024-04-08T18:54:42.151032Z",
     "iopub.status.busy": "2024-04-08T18:54:42.150721Z",
     "iopub.status.idle": "2024-04-08T18:54:42.893066Z",
     "shell.execute_reply": "2024-04-08T18:54:42.892009Z"
    },
    "papermill": {
     "duration": 0.752603,
     "end_time": "2024-04-08T18:54:42.895538",
     "exception": false,
     "start_time": "2024-04-08T18:54:42.142935",
     "status": "completed"
    },
    "tags": []
   },
   "outputs": [
    {
     "name": "stdout",
     "output_type": "stream",
     "text": [
      "/kaggle/input/playground-series-s4e2/sample_submission.csv\n",
      "/kaggle/input/playground-series-s4e2/train.csv\n",
      "/kaggle/input/playground-series-s4e2/test.csv\n"
     ]
    }
   ],
   "source": [
    "# This Python 3 environment comes with many helpful analytics libraries installed\n",
    "# It is defined by the kaggle/python Docker image: https://github.com/kaggle/docker-python\n",
    "# For example, here's several helpful packages to load\n",
    "\n",
    "import numpy as np # linear algebra\n",
    "import pandas as pd # data processing, CSV file I/O (e.g. pd.read_csv)\n",
    "\n",
    "# Input data files are available in the read-only \"../input/\" directory\n",
    "# For example, running this (by clicking run or pressing Shift+Enter) will list all files under the input directory\n",
    "\n",
    "import os\n",
    "for dirname, _, filenames in os.walk('/kaggle/input'):\n",
    "    for filename in filenames:\n",
    "        print(os.path.join(dirname, filename))\n",
    "\n",
    "# You can write up to 20GB to the current directory (/kaggle/working/) that gets preserved as output when you create a version using \"Save & Run All\" \n",
    "# You can also write temporary files to /kaggle/temp/, but they won't be saved outside of the current session"
   ]
  },
  {
   "cell_type": "markdown",
   "id": "3a65f371",
   "metadata": {
    "papermill": {
     "duration": 0.006767,
     "end_time": "2024-04-08T18:54:42.909557",
     "exception": false,
     "start_time": "2024-04-08T18:54:42.902790",
     "status": "completed"
    },
    "tags": []
   },
   "source": [
    "> # Importing Necessary Libraries"
   ]
  },
  {
   "cell_type": "code",
   "execution_count": 2,
   "id": "0bb89c96",
   "metadata": {
    "execution": {
     "iopub.execute_input": "2024-04-08T18:54:42.924674Z",
     "iopub.status.busy": "2024-04-08T18:54:42.924222Z",
     "iopub.status.idle": "2024-04-08T18:54:44.266279Z",
     "shell.execute_reply": "2024-04-08T18:54:44.265332Z"
    },
    "papermill": {
     "duration": 1.352311,
     "end_time": "2024-04-08T18:54:44.268717",
     "exception": false,
     "start_time": "2024-04-08T18:54:42.916406",
     "status": "completed"
    },
    "tags": []
   },
   "outputs": [],
   "source": [
    "import numpy as np\n",
    "import pandas as pd\n",
    "from sklearn.model_selection import train_test_split, GridSearchCV, cross_val_score\n",
    "from sklearn.metrics import accuracy_score\n",
    "from sklearn.preprocessing import LabelEncoder, StandardScaler\n",
    "from xgboost import XGBClassifier"
   ]
  },
  {
   "cell_type": "code",
   "execution_count": 3,
   "id": "da359281",
   "metadata": {
    "execution": {
     "iopub.execute_input": "2024-04-08T18:54:44.282622Z",
     "iopub.status.busy": "2024-04-08T18:54:44.282018Z",
     "iopub.status.idle": "2024-04-08T18:54:44.460996Z",
     "shell.execute_reply": "2024-04-08T18:54:44.460095Z"
    },
    "papermill": {
     "duration": 0.188555,
     "end_time": "2024-04-08T18:54:44.463564",
     "exception": false,
     "start_time": "2024-04-08T18:54:44.275009",
     "status": "completed"
    },
    "tags": []
   },
   "outputs": [],
   "source": [
    "train_df = pd.read_csv('/kaggle/input/playground-series-s4e2/train.csv')\n",
    "test_df = pd.read_csv('/kaggle/input/playground-series-s4e2/test.csv')"
   ]
  },
  {
   "cell_type": "code",
   "execution_count": 4,
   "id": "cdb51eb0",
   "metadata": {
    "execution": {
     "iopub.execute_input": "2024-04-08T18:54:44.477026Z",
     "iopub.status.busy": "2024-04-08T18:54:44.476735Z",
     "iopub.status.idle": "2024-04-08T18:54:44.489857Z",
     "shell.execute_reply": "2024-04-08T18:54:44.489189Z"
    },
    "papermill": {
     "duration": 0.022082,
     "end_time": "2024-04-08T18:54:44.491767",
     "exception": false,
     "start_time": "2024-04-08T18:54:44.469685",
     "status": "completed"
    },
    "tags": []
   },
   "outputs": [],
   "source": [
    "train_X = train_df.drop(['id', 'NObeyesdad'], axis=1)\n",
    "train_y = train_df['NObeyesdad']"
   ]
  },
  {
   "cell_type": "code",
   "execution_count": 5,
   "id": "4bdc64ce",
   "metadata": {
    "execution": {
     "iopub.execute_input": "2024-04-08T18:54:44.504490Z",
     "iopub.status.busy": "2024-04-08T18:54:44.504209Z",
     "iopub.status.idle": "2024-04-08T18:54:44.508173Z",
     "shell.execute_reply": "2024-04-08T18:54:44.507436Z"
    },
    "papermill": {
     "duration": 0.012383,
     "end_time": "2024-04-08T18:54:44.510001",
     "exception": false,
     "start_time": "2024-04-08T18:54:44.497618",
     "status": "completed"
    },
    "tags": []
   },
   "outputs": [],
   "source": [
    "categorical_cols = ['Gender', 'family_history_with_overweight', 'FAVC', 'CAEC', 'SMOKE', 'SCC', 'CALC', 'MTRANS']"
   ]
  },
  {
   "cell_type": "code",
   "execution_count": 6,
   "id": "18390e62",
   "metadata": {
    "execution": {
     "iopub.execute_input": "2024-04-08T18:54:44.523022Z",
     "iopub.status.busy": "2024-04-08T18:54:44.522787Z",
     "iopub.status.idle": "2024-04-08T18:54:44.577901Z",
     "shell.execute_reply": "2024-04-08T18:54:44.577176Z"
    },
    "papermill": {
     "duration": 0.063813,
     "end_time": "2024-04-08T18:54:44.579854",
     "exception": false,
     "start_time": "2024-04-08T18:54:44.516041",
     "status": "completed"
    },
    "tags": []
   },
   "outputs": [],
   "source": [
    "train_X_encoded = pd.get_dummies(train_X, columns=categorical_cols)\n",
    "test_X_encoded = pd.get_dummies(test_df.drop('id', axis=1), columns=categorical_cols)"
   ]
  },
  {
   "cell_type": "code",
   "execution_count": 7,
   "id": "f0696c96",
   "metadata": {
    "execution": {
     "iopub.execute_input": "2024-04-08T18:54:44.593250Z",
     "iopub.status.busy": "2024-04-08T18:54:44.592983Z",
     "iopub.status.idle": "2024-04-08T18:54:44.599959Z",
     "shell.execute_reply": "2024-04-08T18:54:44.599198Z"
    },
    "papermill": {
     "duration": 0.015943,
     "end_time": "2024-04-08T18:54:44.601894",
     "exception": false,
     "start_time": "2024-04-08T18:54:44.585951",
     "status": "completed"
    },
    "tags": []
   },
   "outputs": [],
   "source": [
    "common_cols = list(set(train_X_encoded.columns) & set(test_X_encoded.columns))\n",
    "train_X_encoded = train_X_encoded[common_cols]\n",
    "test_X_encoded = test_X_encoded[common_cols]"
   ]
  },
  {
   "cell_type": "code",
   "execution_count": 8,
   "id": "4421efd8",
   "metadata": {
    "execution": {
     "iopub.execute_input": "2024-04-08T18:54:44.614649Z",
     "iopub.status.busy": "2024-04-08T18:54:44.614408Z",
     "iopub.status.idle": "2024-04-08T18:54:44.623391Z",
     "shell.execute_reply": "2024-04-08T18:54:44.622577Z"
    },
    "papermill": {
     "duration": 0.017643,
     "end_time": "2024-04-08T18:54:44.625317",
     "exception": false,
     "start_time": "2024-04-08T18:54:44.607674",
     "status": "completed"
    },
    "tags": []
   },
   "outputs": [],
   "source": [
    "label_encoder = LabelEncoder()\n",
    "train_y_encoded = label_encoder.fit_transform(train_y)"
   ]
  },
  {
   "cell_type": "code",
   "execution_count": 9,
   "id": "6f5a0aaf",
   "metadata": {
    "execution": {
     "iopub.execute_input": "2024-04-08T18:54:44.639009Z",
     "iopub.status.busy": "2024-04-08T18:54:44.638777Z",
     "iopub.status.idle": "2024-04-08T18:54:44.649193Z",
     "shell.execute_reply": "2024-04-08T18:54:44.648322Z"
    },
    "papermill": {
     "duration": 0.019354,
     "end_time": "2024-04-08T18:54:44.651552",
     "exception": false,
     "start_time": "2024-04-08T18:54:44.632198",
     "status": "completed"
    },
    "tags": []
   },
   "outputs": [],
   "source": [
    "X_train, X_val, y_train, y_val = train_test_split(train_X_encoded, train_y_encoded, test_size=0.2, random_state=42)"
   ]
  },
  {
   "cell_type": "code",
   "execution_count": 10,
   "id": "612ccefd",
   "metadata": {
    "execution": {
     "iopub.execute_input": "2024-04-08T18:54:44.665671Z",
     "iopub.status.busy": "2024-04-08T18:54:44.665417Z",
     "iopub.status.idle": "2024-04-08T18:54:44.733546Z",
     "shell.execute_reply": "2024-04-08T18:54:44.732764Z"
    },
    "papermill": {
     "duration": 0.077628,
     "end_time": "2024-04-08T18:54:44.735692",
     "exception": false,
     "start_time": "2024-04-08T18:54:44.658064",
     "status": "completed"
    },
    "tags": []
   },
   "outputs": [],
   "source": [
    "scaler = StandardScaler()\n",
    "X_train_scaled = scaler.fit_transform(X_train)\n",
    "X_val_scaled = scaler.transform(X_val)\n",
    "test_scaled = scaler.transform(test_X_encoded)"
   ]
  },
  {
   "cell_type": "code",
   "execution_count": 11,
   "id": "9a84a5eb",
   "metadata": {
    "execution": {
     "iopub.execute_input": "2024-04-08T18:54:44.749054Z",
     "iopub.status.busy": "2024-04-08T18:54:44.748762Z",
     "iopub.status.idle": "2024-04-08T18:54:44.753249Z",
     "shell.execute_reply": "2024-04-08T18:54:44.752425Z"
    },
    "papermill": {
     "duration": 0.013364,
     "end_time": "2024-04-08T18:54:44.755390",
     "exception": false,
     "start_time": "2024-04-08T18:54:44.742026",
     "status": "completed"
    },
    "tags": []
   },
   "outputs": [],
   "source": [
    "param_grid = {\n",
    "    'learning_rate': [0.01, 0.1, 0.2],\n",
    "    'max_depth': [3, 4, 5],\n",
    "    'n_estimators': [50, 100, 200],\n",
    "}"
   ]
  },
  {
   "cell_type": "code",
   "execution_count": 12,
   "id": "ca226e02",
   "metadata": {
    "execution": {
     "iopub.execute_input": "2024-04-08T18:54:44.768824Z",
     "iopub.status.busy": "2024-04-08T18:54:44.768155Z",
     "iopub.status.idle": "2024-04-08T18:57:38.923589Z",
     "shell.execute_reply": "2024-04-08T18:57:38.922700Z"
    },
    "papermill": {
     "duration": 174.171138,
     "end_time": "2024-04-08T18:57:38.932635",
     "exception": false,
     "start_time": "2024-04-08T18:54:44.761497",
     "status": "completed"
    },
    "tags": []
   },
   "outputs": [
    {
     "data": {
      "text/html": [
       "<style>#sk-container-id-1 {color: black;background-color: white;}#sk-container-id-1 pre{padding: 0;}#sk-container-id-1 div.sk-toggleable {background-color: white;}#sk-container-id-1 label.sk-toggleable__label {cursor: pointer;display: block;width: 100%;margin-bottom: 0;padding: 0.3em;box-sizing: border-box;text-align: center;}#sk-container-id-1 label.sk-toggleable__label-arrow:before {content: \"▸\";float: left;margin-right: 0.25em;color: #696969;}#sk-container-id-1 label.sk-toggleable__label-arrow:hover:before {color: black;}#sk-container-id-1 div.sk-estimator:hover label.sk-toggleable__label-arrow:before {color: black;}#sk-container-id-1 div.sk-toggleable__content {max-height: 0;max-width: 0;overflow: hidden;text-align: left;background-color: #f0f8ff;}#sk-container-id-1 div.sk-toggleable__content pre {margin: 0.2em;color: black;border-radius: 0.25em;background-color: #f0f8ff;}#sk-container-id-1 input.sk-toggleable__control:checked~div.sk-toggleable__content {max-height: 200px;max-width: 100%;overflow: auto;}#sk-container-id-1 input.sk-toggleable__control:checked~label.sk-toggleable__label-arrow:before {content: \"▾\";}#sk-container-id-1 div.sk-estimator input.sk-toggleable__control:checked~label.sk-toggleable__label {background-color: #d4ebff;}#sk-container-id-1 div.sk-label input.sk-toggleable__control:checked~label.sk-toggleable__label {background-color: #d4ebff;}#sk-container-id-1 input.sk-hidden--visually {border: 0;clip: rect(1px 1px 1px 1px);clip: rect(1px, 1px, 1px, 1px);height: 1px;margin: -1px;overflow: hidden;padding: 0;position: absolute;width: 1px;}#sk-container-id-1 div.sk-estimator {font-family: monospace;background-color: #f0f8ff;border: 1px dotted black;border-radius: 0.25em;box-sizing: border-box;margin-bottom: 0.5em;}#sk-container-id-1 div.sk-estimator:hover {background-color: #d4ebff;}#sk-container-id-1 div.sk-parallel-item::after {content: \"\";width: 100%;border-bottom: 1px solid gray;flex-grow: 1;}#sk-container-id-1 div.sk-label:hover label.sk-toggleable__label {background-color: #d4ebff;}#sk-container-id-1 div.sk-serial::before {content: \"\";position: absolute;border-left: 1px solid gray;box-sizing: border-box;top: 0;bottom: 0;left: 50%;z-index: 0;}#sk-container-id-1 div.sk-serial {display: flex;flex-direction: column;align-items: center;background-color: white;padding-right: 0.2em;padding-left: 0.2em;position: relative;}#sk-container-id-1 div.sk-item {position: relative;z-index: 1;}#sk-container-id-1 div.sk-parallel {display: flex;align-items: stretch;justify-content: center;background-color: white;position: relative;}#sk-container-id-1 div.sk-item::before, #sk-container-id-1 div.sk-parallel-item::before {content: \"\";position: absolute;border-left: 1px solid gray;box-sizing: border-box;top: 0;bottom: 0;left: 50%;z-index: -1;}#sk-container-id-1 div.sk-parallel-item {display: flex;flex-direction: column;z-index: 1;position: relative;background-color: white;}#sk-container-id-1 div.sk-parallel-item:first-child::after {align-self: flex-end;width: 50%;}#sk-container-id-1 div.sk-parallel-item:last-child::after {align-self: flex-start;width: 50%;}#sk-container-id-1 div.sk-parallel-item:only-child::after {width: 0;}#sk-container-id-1 div.sk-dashed-wrapped {border: 1px dashed gray;margin: 0 0.4em 0.5em 0.4em;box-sizing: border-box;padding-bottom: 0.4em;background-color: white;}#sk-container-id-1 div.sk-label label {font-family: monospace;font-weight: bold;display: inline-block;line-height: 1.2em;}#sk-container-id-1 div.sk-label-container {text-align: center;}#sk-container-id-1 div.sk-container {/* jupyter's `normalize.less` sets `[hidden] { display: none; }` but bootstrap.min.css set `[hidden] { display: none !important; }` so we also need the `!important` here to be able to override the default hidden behavior on the sphinx rendered scikit-learn.org. See: https://github.com/scikit-learn/scikit-learn/issues/21755 */display: inline-block !important;position: relative;}#sk-container-id-1 div.sk-text-repr-fallback {display: none;}</style><div id=\"sk-container-id-1\" class=\"sk-top-container\"><div class=\"sk-text-repr-fallback\"><pre>GridSearchCV(cv=5,\n",
       "             estimator=XGBClassifier(base_score=None, booster=None,\n",
       "                                     callbacks=None, colsample_bylevel=None,\n",
       "                                     colsample_bynode=None,\n",
       "                                     colsample_bytree=None, device=None,\n",
       "                                     early_stopping_rounds=None,\n",
       "                                     enable_categorical=False, eval_metric=None,\n",
       "                                     feature_types=None, gamma=None,\n",
       "                                     grow_policy=None, importance_type=None,\n",
       "                                     interaction_constraints=None,\n",
       "                                     learning_rate=None,...\n",
       "                                     max_cat_threshold=None,\n",
       "                                     max_cat_to_onehot=None,\n",
       "                                     max_delta_step=None, max_depth=None,\n",
       "                                     max_leaves=None, min_child_weight=None,\n",
       "                                     missing=nan, monotone_constraints=None,\n",
       "                                     multi_strategy=None, n_estimators=None,\n",
       "                                     n_jobs=None, num_parallel_tree=None,\n",
       "                                     random_state=None, ...),\n",
       "             param_grid={&#x27;learning_rate&#x27;: [0.01, 0.1, 0.2],\n",
       "                         &#x27;max_depth&#x27;: [3, 4, 5],\n",
       "                         &#x27;n_estimators&#x27;: [50, 100, 200]},\n",
       "             scoring=&#x27;accuracy&#x27;)</pre><b>In a Jupyter environment, please rerun this cell to show the HTML representation or trust the notebook. <br />On GitHub, the HTML representation is unable to render, please try loading this page with nbviewer.org.</b></div><div class=\"sk-container\" hidden><div class=\"sk-item sk-dashed-wrapped\"><div class=\"sk-label-container\"><div class=\"sk-label sk-toggleable\"><input class=\"sk-toggleable__control sk-hidden--visually\" id=\"sk-estimator-id-1\" type=\"checkbox\" ><label for=\"sk-estimator-id-1\" class=\"sk-toggleable__label sk-toggleable__label-arrow\">GridSearchCV</label><div class=\"sk-toggleable__content\"><pre>GridSearchCV(cv=5,\n",
       "             estimator=XGBClassifier(base_score=None, booster=None,\n",
       "                                     callbacks=None, colsample_bylevel=None,\n",
       "                                     colsample_bynode=None,\n",
       "                                     colsample_bytree=None, device=None,\n",
       "                                     early_stopping_rounds=None,\n",
       "                                     enable_categorical=False, eval_metric=None,\n",
       "                                     feature_types=None, gamma=None,\n",
       "                                     grow_policy=None, importance_type=None,\n",
       "                                     interaction_constraints=None,\n",
       "                                     learning_rate=None,...\n",
       "                                     max_cat_threshold=None,\n",
       "                                     max_cat_to_onehot=None,\n",
       "                                     max_delta_step=None, max_depth=None,\n",
       "                                     max_leaves=None, min_child_weight=None,\n",
       "                                     missing=nan, monotone_constraints=None,\n",
       "                                     multi_strategy=None, n_estimators=None,\n",
       "                                     n_jobs=None, num_parallel_tree=None,\n",
       "                                     random_state=None, ...),\n",
       "             param_grid={&#x27;learning_rate&#x27;: [0.01, 0.1, 0.2],\n",
       "                         &#x27;max_depth&#x27;: [3, 4, 5],\n",
       "                         &#x27;n_estimators&#x27;: [50, 100, 200]},\n",
       "             scoring=&#x27;accuracy&#x27;)</pre></div></div></div><div class=\"sk-parallel\"><div class=\"sk-parallel-item\"><div class=\"sk-item\"><div class=\"sk-label-container\"><div class=\"sk-label sk-toggleable\"><input class=\"sk-toggleable__control sk-hidden--visually\" id=\"sk-estimator-id-2\" type=\"checkbox\" ><label for=\"sk-estimator-id-2\" class=\"sk-toggleable__label sk-toggleable__label-arrow\">estimator: XGBClassifier</label><div class=\"sk-toggleable__content\"><pre>XGBClassifier(base_score=None, booster=None, callbacks=None,\n",
       "              colsample_bylevel=None, colsample_bynode=None,\n",
       "              colsample_bytree=None, device=None, early_stopping_rounds=None,\n",
       "              enable_categorical=False, eval_metric=None, feature_types=None,\n",
       "              gamma=None, grow_policy=None, importance_type=None,\n",
       "              interaction_constraints=None, learning_rate=None, max_bin=None,\n",
       "              max_cat_threshold=None, max_cat_to_onehot=None,\n",
       "              max_delta_step=None, max_depth=None, max_leaves=None,\n",
       "              min_child_weight=None, missing=nan, monotone_constraints=None,\n",
       "              multi_strategy=None, n_estimators=None, n_jobs=None,\n",
       "              num_parallel_tree=None, random_state=None, ...)</pre></div></div></div><div class=\"sk-serial\"><div class=\"sk-item\"><div class=\"sk-estimator sk-toggleable\"><input class=\"sk-toggleable__control sk-hidden--visually\" id=\"sk-estimator-id-3\" type=\"checkbox\" ><label for=\"sk-estimator-id-3\" class=\"sk-toggleable__label sk-toggleable__label-arrow\">XGBClassifier</label><div class=\"sk-toggleable__content\"><pre>XGBClassifier(base_score=None, booster=None, callbacks=None,\n",
       "              colsample_bylevel=None, colsample_bynode=None,\n",
       "              colsample_bytree=None, device=None, early_stopping_rounds=None,\n",
       "              enable_categorical=False, eval_metric=None, feature_types=None,\n",
       "              gamma=None, grow_policy=None, importance_type=None,\n",
       "              interaction_constraints=None, learning_rate=None, max_bin=None,\n",
       "              max_cat_threshold=None, max_cat_to_onehot=None,\n",
       "              max_delta_step=None, max_depth=None, max_leaves=None,\n",
       "              min_child_weight=None, missing=nan, monotone_constraints=None,\n",
       "              multi_strategy=None, n_estimators=None, n_jobs=None,\n",
       "              num_parallel_tree=None, random_state=None, ...)</pre></div></div></div></div></div></div></div></div></div></div>"
      ],
      "text/plain": [
       "GridSearchCV(cv=5,\n",
       "             estimator=XGBClassifier(base_score=None, booster=None,\n",
       "                                     callbacks=None, colsample_bylevel=None,\n",
       "                                     colsample_bynode=None,\n",
       "                                     colsample_bytree=None, device=None,\n",
       "                                     early_stopping_rounds=None,\n",
       "                                     enable_categorical=False, eval_metric=None,\n",
       "                                     feature_types=None, gamma=None,\n",
       "                                     grow_policy=None, importance_type=None,\n",
       "                                     interaction_constraints=None,\n",
       "                                     learning_rate=None,...\n",
       "                                     max_cat_threshold=None,\n",
       "                                     max_cat_to_onehot=None,\n",
       "                                     max_delta_step=None, max_depth=None,\n",
       "                                     max_leaves=None, min_child_weight=None,\n",
       "                                     missing=nan, monotone_constraints=None,\n",
       "                                     multi_strategy=None, n_estimators=None,\n",
       "                                     n_jobs=None, num_parallel_tree=None,\n",
       "                                     random_state=None, ...),\n",
       "             param_grid={'learning_rate': [0.01, 0.1, 0.2],\n",
       "                         'max_depth': [3, 4, 5],\n",
       "                         'n_estimators': [50, 100, 200]},\n",
       "             scoring='accuracy')"
      ]
     },
     "execution_count": 12,
     "metadata": {},
     "output_type": "execute_result"
    }
   ],
   "source": [
    "grid_search = GridSearchCV(XGBClassifier(), param_grid, cv=5, scoring='accuracy')\n",
    "grid_search.fit(X_train_scaled, y_train)"
   ]
  },
  {
   "cell_type": "code",
   "execution_count": 13,
   "id": "0eba9883",
   "metadata": {
    "execution": {
     "iopub.execute_input": "2024-04-08T18:57:38.946566Z",
     "iopub.status.busy": "2024-04-08T18:57:38.946228Z",
     "iopub.status.idle": "2024-04-08T18:57:38.950807Z",
     "shell.execute_reply": "2024-04-08T18:57:38.949964Z"
    },
    "papermill": {
     "duration": 0.01373,
     "end_time": "2024-04-08T18:57:38.952731",
     "exception": false,
     "start_time": "2024-04-08T18:57:38.939001",
     "status": "completed"
    },
    "tags": []
   },
   "outputs": [
    {
     "name": "stdout",
     "output_type": "stream",
     "text": [
      "Best Hyperparameters: {'learning_rate': 0.2, 'max_depth': 3, 'n_estimators': 200}\n"
     ]
    }
   ],
   "source": [
    "best_params = grid_search.best_params_\n",
    "print(f'Best Hyperparameters: {best_params}')"
   ]
  },
  {
   "cell_type": "code",
   "execution_count": 14,
   "id": "4e49816a",
   "metadata": {
    "execution": {
     "iopub.execute_input": "2024-04-08T18:57:38.966560Z",
     "iopub.status.busy": "2024-04-08T18:57:38.966246Z",
     "iopub.status.idle": "2024-04-08T18:57:38.969995Z",
     "shell.execute_reply": "2024-04-08T18:57:38.969189Z"
    },
    "papermill": {
     "duration": 0.012712,
     "end_time": "2024-04-08T18:57:38.971842",
     "exception": false,
     "start_time": "2024-04-08T18:57:38.959130",
     "status": "completed"
    },
    "tags": []
   },
   "outputs": [],
   "source": [
    "best_model = grid_search.best_estimator_"
   ]
  },
  {
   "cell_type": "code",
   "execution_count": 15,
   "id": "c68af181",
   "metadata": {
    "execution": {
     "iopub.execute_input": "2024-04-08T18:57:38.985346Z",
     "iopub.status.busy": "2024-04-08T18:57:38.985038Z",
     "iopub.status.idle": "2024-04-08T18:57:49.879503Z",
     "shell.execute_reply": "2024-04-08T18:57:49.878719Z"
    },
    "papermill": {
     "duration": 10.903624,
     "end_time": "2024-04-08T18:57:49.881818",
     "exception": false,
     "start_time": "2024-04-08T18:57:38.978194",
     "status": "completed"
    },
    "tags": []
   },
   "outputs": [
    {
     "name": "stdout",
     "output_type": "stream",
     "text": [
      "Cross-Validation Scores: [0.90510597 0.9026975  0.91498073 0.90701036 0.90845579]\n",
      "Mean CV Accuracy: 0.9076500706239274\n"
     ]
    }
   ],
   "source": [
    "cv_scores = cross_val_score(best_model, train_X_encoded, train_y_encoded, cv=5, scoring='accuracy')\n",
    "print(f'Cross-Validation Scores: {cv_scores}')\n",
    "print(f'Mean CV Accuracy: {cv_scores.mean()}')\n"
   ]
  },
  {
   "cell_type": "code",
   "execution_count": 16,
   "id": "8a654082",
   "metadata": {
    "execution": {
     "iopub.execute_input": "2024-04-08T18:57:49.896776Z",
     "iopub.status.busy": "2024-04-08T18:57:49.896488Z",
     "iopub.status.idle": "2024-04-08T18:57:49.927205Z",
     "shell.execute_reply": "2024-04-08T18:57:49.926294Z"
    },
    "papermill": {
     "duration": 0.040341,
     "end_time": "2024-04-08T18:57:49.929428",
     "exception": false,
     "start_time": "2024-04-08T18:57:49.889087",
     "status": "completed"
    },
    "tags": []
   },
   "outputs": [
    {
     "name": "stdout",
     "output_type": "stream",
     "text": [
      "Validation Accuracy: 0.91\n"
     ]
    }
   ],
   "source": [
    "val_predictions = best_model.predict(X_val_scaled)\n",
    "val_accuracy = accuracy_score(y_val, val_predictions)\n",
    "print(f'Validation Accuracy: {val_accuracy:.2f}')"
   ]
  },
  {
   "cell_type": "code",
   "execution_count": 17,
   "id": "37fb0e8b",
   "metadata": {
    "execution": {
     "iopub.execute_input": "2024-04-08T18:57:49.945628Z",
     "iopub.status.busy": "2024-04-08T18:57:49.945378Z",
     "iopub.status.idle": "2024-04-08T18:57:50.025673Z",
     "shell.execute_reply": "2024-04-08T18:57:50.024909Z"
    },
    "papermill": {
     "duration": 0.091111,
     "end_time": "2024-04-08T18:57:50.028012",
     "exception": false,
     "start_time": "2024-04-08T18:57:49.936901",
     "status": "completed"
    },
    "tags": []
   },
   "outputs": [],
   "source": [
    "test_predictions = best_model.predict(test_scaled)\n",
    "test_predictions_labels = label_encoder.inverse_transform(test_predictions)\n"
   ]
  },
  {
   "cell_type": "code",
   "execution_count": 18,
   "id": "12a3a180",
   "metadata": {
    "execution": {
     "iopub.execute_input": "2024-04-08T18:57:50.044837Z",
     "iopub.status.busy": "2024-04-08T18:57:50.044592Z",
     "iopub.status.idle": "2024-04-08T18:57:50.049275Z",
     "shell.execute_reply": "2024-04-08T18:57:50.048430Z"
    },
    "papermill": {
     "duration": 0.015058,
     "end_time": "2024-04-08T18:57:50.051306",
     "exception": false,
     "start_time": "2024-04-08T18:57:50.036248",
     "status": "completed"
    },
    "tags": []
   },
   "outputs": [],
   "source": [
    "submission_df = pd.DataFrame({'id': test_df['id'], 'NObeyesdad': test_predictions_labels})"
   ]
  },
  {
   "cell_type": "code",
   "execution_count": 19,
   "id": "39f67575",
   "metadata": {
    "execution": {
     "iopub.execute_input": "2024-04-08T18:57:50.066366Z",
     "iopub.status.busy": "2024-04-08T18:57:50.066036Z",
     "iopub.status.idle": "2024-04-08T18:57:50.098384Z",
     "shell.execute_reply": "2024-04-08T18:57:50.097698Z"
    },
    "papermill": {
     "duration": 0.041871,
     "end_time": "2024-04-08T18:57:50.100207",
     "exception": false,
     "start_time": "2024-04-08T18:57:50.058336",
     "status": "completed"
    },
    "tags": []
   },
   "outputs": [],
   "source": [
    "submission_df.to_csv('submission.csv', index=False)"
   ]
  },
  {
   "cell_type": "code",
   "execution_count": null,
   "id": "ad6c323d",
   "metadata": {
    "papermill": {
     "duration": 0.006371,
     "end_time": "2024-04-08T18:57:50.113212",
     "exception": false,
     "start_time": "2024-04-08T18:57:50.106841",
     "status": "completed"
    },
    "tags": []
   },
   "outputs": [],
   "source": []
  }
 ],
 "metadata": {
  "kaggle": {
   "accelerator": "gpu",
   "dataSources": [
    {
     "databundleVersionId": 7609535,
     "sourceId": 68479,
     "sourceType": "competition"
    }
   ],
   "isGpuEnabled": true,
   "isInternetEnabled": true,
   "language": "python",
   "sourceType": "notebook"
  },
  "kernelspec": {
   "display_name": "Python 3",
   "language": "python",
   "name": "python3"
  },
  "language_info": {
   "codemirror_mode": {
    "name": "ipython",
    "version": 3
   },
   "file_extension": ".py",
   "mimetype": "text/x-python",
   "name": "python",
   "nbconvert_exporter": "python",
   "pygments_lexer": "ipython3",
   "version": "3.10.13"
  },
  "papermill": {
   "default_parameters": {},
   "duration": 191.195824,
   "end_time": "2024-04-08T18:57:50.539064",
   "environment_variables": {},
   "exception": null,
   "input_path": "__notebook__.ipynb",
   "output_path": "__notebook__.ipynb",
   "parameters": {},
   "start_time": "2024-04-08T18:54:39.343240",
   "version": "2.5.0"
  }
 },
 "nbformat": 4,
 "nbformat_minor": 5
}
