{
 "cells": [
  {
   "cell_type": "markdown",
   "id": "5a345e5e",
   "metadata": {
    "papermill": {
     "duration": 0.003949,
     "end_time": "2024-02-04T16:40:57.875655",
     "exception": false,
     "start_time": "2024-02-04T16:40:57.871706",
     "status": "completed"
    },
    "tags": []
   },
   "source": [
    "# Multi-Class Prediction of Obesity Risk - XGBoost+Optuna\n",
    "\n",
    "This notebook uses XGBoost as the base model and Optuna for hyperparameter optimization."
   ]
  },
  {
   "cell_type": "code",
   "execution_count": 3,
   "id": "9c88aed1",
   "metadata": {
    "execution": {
     "iopub.execute_input": "2024-02-04T16:40:57.883865Z",
     "iopub.status.busy": "2024-02-04T16:40:57.883588Z",
     "iopub.status.idle": "2024-02-04T16:41:02.332429Z",
     "shell.execute_reply": "2024-02-04T16:41:02.331589Z"
    },
    "papermill": {
     "duration": 4.455357,
     "end_time": "2024-02-04T16:41:02.334725",
     "exception": false,
     "start_time": "2024-02-04T16:40:57.879368",
     "status": "completed"
    },
    "tags": []
   },
   "outputs": [],
   "source": [
    "import pandas as pd\n",
    "import numpy as np\n",
    "\n",
    "from sklearn.compose import ColumnTransformer, make_column_selector\n",
    "from sklearn.preprocessing import StandardScaler, OneHotEncoder, LabelEncoder\n",
    "from sklearn.model_selection import cross_val_score\n",
    "\n",
    "from xgboost import XGBClassifier\n",
    "\n",
    "# import cupy as cp\n",
    "# import optuna"
   ]
  },
  {
   "cell_type": "markdown",
   "id": "8bb393cc",
   "metadata": {
    "papermill": {
     "duration": 0.003597,
     "end_time": "2024-02-04T16:41:02.342944",
     "exception": false,
     "start_time": "2024-02-04T16:41:02.339347",
     "status": "completed"
    },
    "tags": []
   },
   "source": [
    "## Data loading and analysis\n"
   ]
  },
  {
   "cell_type": "code",
   "execution_count": 5,
   "id": "f386c405",
   "metadata": {
    "execution": {
     "iopub.execute_input": "2024-02-04T16:41:02.351677Z",
     "iopub.status.busy": "2024-02-04T16:41:02.351281Z",
     "iopub.status.idle": "2024-02-04T16:41:02.794159Z",
     "shell.execute_reply": "2024-02-04T16:41:02.793312Z"
    },
    "papermill": {
     "duration": 0.449663,
     "end_time": "2024-02-04T16:41:02.796394",
     "exception": false,
     "start_time": "2024-02-04T16:41:02.346731",
     "status": "completed"
    },
    "tags": []
   },
   "outputs": [
    {
     "data": {
      "text/plain": [
       "(22845, 17)"
      ]
     },
     "metadata": {},
     "output_type": "display_data"
    },
    {
     "data": {
      "text/html": [
       "<div>\n",
       "<style scoped>\n",
       "    .dataframe tbody tr th:only-of-type {\n",
       "        vertical-align: middle;\n",
       "    }\n",
       "\n",
       "    .dataframe tbody tr th {\n",
       "        vertical-align: top;\n",
       "    }\n",
       "\n",
       "    .dataframe thead th {\n",
       "        text-align: right;\n",
       "    }\n",
       "</style>\n",
       "<table border=\"1\" class=\"dataframe\">\n",
       "  <thead>\n",
       "    <tr style=\"text-align: right;\">\n",
       "      <th></th>\n",
       "      <th>Gender</th>\n",
       "      <th>Age</th>\n",
       "      <th>Height</th>\n",
       "      <th>Weight</th>\n",
       "      <th>family_history_with_overweight</th>\n",
       "      <th>FAVC</th>\n",
       "      <th>FCVC</th>\n",
       "      <th>NCP</th>\n",
       "      <th>CAEC</th>\n",
       "      <th>SMOKE</th>\n",
       "      <th>CH2O</th>\n",
       "      <th>SCC</th>\n",
       "      <th>FAF</th>\n",
       "      <th>TUE</th>\n",
       "      <th>CALC</th>\n",
       "      <th>MTRANS</th>\n",
       "      <th>NObeyesdad</th>\n",
       "    </tr>\n",
       "  </thead>\n",
       "  <tbody>\n",
       "    <tr>\n",
       "      <th>0</th>\n",
       "      <td>Male</td>\n",
       "      <td>24.443011</td>\n",
       "      <td>1.699998</td>\n",
       "      <td>81.669950</td>\n",
       "      <td>yes</td>\n",
       "      <td>yes</td>\n",
       "      <td>2.000000</td>\n",
       "      <td>2.983297</td>\n",
       "      <td>Sometimes</td>\n",
       "      <td>no</td>\n",
       "      <td>2.763573</td>\n",
       "      <td>no</td>\n",
       "      <td>0.000000</td>\n",
       "      <td>0.976473</td>\n",
       "      <td>Sometimes</td>\n",
       "      <td>Public_Transportation</td>\n",
       "      <td>Overweight_Level_II</td>\n",
       "    </tr>\n",
       "    <tr>\n",
       "      <th>1</th>\n",
       "      <td>Female</td>\n",
       "      <td>18.000000</td>\n",
       "      <td>1.560000</td>\n",
       "      <td>57.000000</td>\n",
       "      <td>yes</td>\n",
       "      <td>yes</td>\n",
       "      <td>2.000000</td>\n",
       "      <td>3.000000</td>\n",
       "      <td>Frequently</td>\n",
       "      <td>no</td>\n",
       "      <td>2.000000</td>\n",
       "      <td>no</td>\n",
       "      <td>1.000000</td>\n",
       "      <td>1.000000</td>\n",
       "      <td>no</td>\n",
       "      <td>Automobile</td>\n",
       "      <td>Normal_Weight</td>\n",
       "    </tr>\n",
       "    <tr>\n",
       "      <th>2</th>\n",
       "      <td>Female</td>\n",
       "      <td>18.000000</td>\n",
       "      <td>1.711460</td>\n",
       "      <td>50.165754</td>\n",
       "      <td>yes</td>\n",
       "      <td>yes</td>\n",
       "      <td>1.880534</td>\n",
       "      <td>1.411685</td>\n",
       "      <td>Sometimes</td>\n",
       "      <td>no</td>\n",
       "      <td>1.910378</td>\n",
       "      <td>no</td>\n",
       "      <td>0.866045</td>\n",
       "      <td>1.673584</td>\n",
       "      <td>no</td>\n",
       "      <td>Public_Transportation</td>\n",
       "      <td>Insufficient_Weight</td>\n",
       "    </tr>\n",
       "    <tr>\n",
       "      <th>3</th>\n",
       "      <td>Female</td>\n",
       "      <td>20.952737</td>\n",
       "      <td>1.710730</td>\n",
       "      <td>131.274851</td>\n",
       "      <td>yes</td>\n",
       "      <td>yes</td>\n",
       "      <td>3.000000</td>\n",
       "      <td>3.000000</td>\n",
       "      <td>Sometimes</td>\n",
       "      <td>no</td>\n",
       "      <td>1.674061</td>\n",
       "      <td>no</td>\n",
       "      <td>1.467863</td>\n",
       "      <td>0.780199</td>\n",
       "      <td>Sometimes</td>\n",
       "      <td>Public_Transportation</td>\n",
       "      <td>Obesity_Type_III</td>\n",
       "    </tr>\n",
       "    <tr>\n",
       "      <th>4</th>\n",
       "      <td>Male</td>\n",
       "      <td>31.641081</td>\n",
       "      <td>1.914186</td>\n",
       "      <td>93.798055</td>\n",
       "      <td>yes</td>\n",
       "      <td>yes</td>\n",
       "      <td>2.679664</td>\n",
       "      <td>1.971472</td>\n",
       "      <td>Sometimes</td>\n",
       "      <td>no</td>\n",
       "      <td>1.979848</td>\n",
       "      <td>no</td>\n",
       "      <td>1.967973</td>\n",
       "      <td>0.931721</td>\n",
       "      <td>Sometimes</td>\n",
       "      <td>Public_Transportation</td>\n",
       "      <td>Overweight_Level_II</td>\n",
       "    </tr>\n",
       "  </tbody>\n",
       "</table>\n",
       "</div>"
      ],
      "text/plain": [
       "   Gender        Age    Height      Weight family_history_with_overweight  \\\n",
       "0    Male  24.443011  1.699998   81.669950                            yes   \n",
       "1  Female  18.000000  1.560000   57.000000                            yes   \n",
       "2  Female  18.000000  1.711460   50.165754                            yes   \n",
       "3  Female  20.952737  1.710730  131.274851                            yes   \n",
       "4    Male  31.641081  1.914186   93.798055                            yes   \n",
       "\n",
       "  FAVC      FCVC       NCP        CAEC SMOKE      CH2O SCC       FAF  \\\n",
       "0  yes  2.000000  2.983297   Sometimes    no  2.763573  no  0.000000   \n",
       "1  yes  2.000000  3.000000  Frequently    no  2.000000  no  1.000000   \n",
       "2  yes  1.880534  1.411685   Sometimes    no  1.910378  no  0.866045   \n",
       "3  yes  3.000000  3.000000   Sometimes    no  1.674061  no  1.467863   \n",
       "4  yes  2.679664  1.971472   Sometimes    no  1.979848  no  1.967973   \n",
       "\n",
       "        TUE       CALC                 MTRANS           NObeyesdad  \n",
       "0  0.976473  Sometimes  Public_Transportation  Overweight_Level_II  \n",
       "1  1.000000         no             Automobile        Normal_Weight  \n",
       "2  1.673584         no  Public_Transportation  Insufficient_Weight  \n",
       "3  0.780199  Sometimes  Public_Transportation     Obesity_Type_III  \n",
       "4  0.931721  Sometimes  Public_Transportation  Overweight_Level_II  "
      ]
     },
     "metadata": {},
     "output_type": "display_data"
    },
    {
     "data": {
      "text/html": [
       "<div>\n",
       "<style scoped>\n",
       "    .dataframe tbody tr th:only-of-type {\n",
       "        vertical-align: middle;\n",
       "    }\n",
       "\n",
       "    .dataframe tbody tr th {\n",
       "        vertical-align: top;\n",
       "    }\n",
       "\n",
       "    .dataframe thead th {\n",
       "        text-align: right;\n",
       "    }\n",
       "</style>\n",
       "<table border=\"1\" class=\"dataframe\">\n",
       "  <thead>\n",
       "    <tr style=\"text-align: right;\">\n",
       "      <th></th>\n",
       "      <th>count</th>\n",
       "      <th>mean</th>\n",
       "      <th>std</th>\n",
       "      <th>min</th>\n",
       "      <th>25%</th>\n",
       "      <th>50%</th>\n",
       "      <th>75%</th>\n",
       "      <th>max</th>\n",
       "    </tr>\n",
       "  </thead>\n",
       "  <tbody>\n",
       "    <tr>\n",
       "      <th>Age</th>\n",
       "      <td>22845.0</td>\n",
       "      <td>23.888513</td>\n",
       "      <td>5.755338</td>\n",
       "      <td>14.00</td>\n",
       "      <td>20.000000</td>\n",
       "      <td>22.815416</td>\n",
       "      <td>26.000000</td>\n",
       "      <td>61.00</td>\n",
       "    </tr>\n",
       "    <tr>\n",
       "      <th>Height</th>\n",
       "      <td>22845.0</td>\n",
       "      <td>1.700467</td>\n",
       "      <td>0.087865</td>\n",
       "      <td>1.45</td>\n",
       "      <td>1.631856</td>\n",
       "      <td>1.700000</td>\n",
       "      <td>1.763029</td>\n",
       "      <td>1.98</td>\n",
       "    </tr>\n",
       "    <tr>\n",
       "      <th>Weight</th>\n",
       "      <td>22845.0</td>\n",
       "      <td>87.793761</td>\n",
       "      <td>26.363367</td>\n",
       "      <td>39.00</td>\n",
       "      <td>66.000000</td>\n",
       "      <td>84.000000</td>\n",
       "      <td>111.531208</td>\n",
       "      <td>173.00</td>\n",
       "    </tr>\n",
       "    <tr>\n",
       "      <th>FCVC</th>\n",
       "      <td>22845.0</td>\n",
       "      <td>2.443675</td>\n",
       "      <td>0.533392</td>\n",
       "      <td>1.00</td>\n",
       "      <td>2.000000</td>\n",
       "      <td>2.393837</td>\n",
       "      <td>3.000000</td>\n",
       "      <td>3.00</td>\n",
       "    </tr>\n",
       "    <tr>\n",
       "      <th>NCP</th>\n",
       "      <td>22845.0</td>\n",
       "      <td>2.755837</td>\n",
       "      <td>0.711185</td>\n",
       "      <td>1.00</td>\n",
       "      <td>3.000000</td>\n",
       "      <td>3.000000</td>\n",
       "      <td>3.000000</td>\n",
       "      <td>4.00</td>\n",
       "    </tr>\n",
       "    <tr>\n",
       "      <th>CH2O</th>\n",
       "      <td>22845.0</td>\n",
       "      <td>2.027165</td>\n",
       "      <td>0.608479</td>\n",
       "      <td>1.00</td>\n",
       "      <td>1.755907</td>\n",
       "      <td>2.000000</td>\n",
       "      <td>2.531984</td>\n",
       "      <td>3.00</td>\n",
       "    </tr>\n",
       "    <tr>\n",
       "      <th>FAF</th>\n",
       "      <td>22845.0</td>\n",
       "      <td>0.984585</td>\n",
       "      <td>0.839728</td>\n",
       "      <td>0.00</td>\n",
       "      <td>0.015860</td>\n",
       "      <td>1.000000</td>\n",
       "      <td>1.600431</td>\n",
       "      <td>3.00</td>\n",
       "    </tr>\n",
       "    <tr>\n",
       "      <th>TUE</th>\n",
       "      <td>22845.0</td>\n",
       "      <td>0.620984</td>\n",
       "      <td>0.602802</td>\n",
       "      <td>0.00</td>\n",
       "      <td>0.000000</td>\n",
       "      <td>0.582840</td>\n",
       "      <td>1.000000</td>\n",
       "      <td>2.00</td>\n",
       "    </tr>\n",
       "  </tbody>\n",
       "</table>\n",
       "</div>"
      ],
      "text/plain": [
       "          count       mean        std    min        25%        50%  \\\n",
       "Age     22845.0  23.888513   5.755338  14.00  20.000000  22.815416   \n",
       "Height  22845.0   1.700467   0.087865   1.45   1.631856   1.700000   \n",
       "Weight  22845.0  87.793761  26.363367  39.00  66.000000  84.000000   \n",
       "FCVC    22845.0   2.443675   0.533392   1.00   2.000000   2.393837   \n",
       "NCP     22845.0   2.755837   0.711185   1.00   3.000000   3.000000   \n",
       "CH2O    22845.0   2.027165   0.608479   1.00   1.755907   2.000000   \n",
       "FAF     22845.0   0.984585   0.839728   0.00   0.015860   1.000000   \n",
       "TUE     22845.0   0.620984   0.602802   0.00   0.000000   0.582840   \n",
       "\n",
       "               75%     max  \n",
       "Age      26.000000   61.00  \n",
       "Height    1.763029    1.98  \n",
       "Weight  111.531208  173.00  \n",
       "FCVC      3.000000    3.00  \n",
       "NCP       3.000000    4.00  \n",
       "CH2O      2.531984    3.00  \n",
       "FAF       1.600431    3.00  \n",
       "TUE       1.000000    2.00  "
      ]
     },
     "metadata": {},
     "output_type": "display_data"
    },
    {
     "data": {
      "text/html": [
       "<div>\n",
       "<style scoped>\n",
       "    .dataframe tbody tr th:only-of-type {\n",
       "        vertical-align: middle;\n",
       "    }\n",
       "\n",
       "    .dataframe tbody tr th {\n",
       "        vertical-align: top;\n",
       "    }\n",
       "\n",
       "    .dataframe thead th {\n",
       "        text-align: right;\n",
       "    }\n",
       "</style>\n",
       "<table border=\"1\" class=\"dataframe\">\n",
       "  <thead>\n",
       "    <tr style=\"text-align: right;\">\n",
       "      <th></th>\n",
       "      <th>count</th>\n",
       "      <th>unique</th>\n",
       "      <th>top</th>\n",
       "      <th>freq</th>\n",
       "    </tr>\n",
       "  </thead>\n",
       "  <tbody>\n",
       "    <tr>\n",
       "      <th>Gender</th>\n",
       "      <td>22845</td>\n",
       "      <td>2</td>\n",
       "      <td>Female</td>\n",
       "      <td>11457</td>\n",
       "    </tr>\n",
       "    <tr>\n",
       "      <th>family_history_with_overweight</th>\n",
       "      <td>22845</td>\n",
       "      <td>2</td>\n",
       "      <td>yes</td>\n",
       "      <td>18736</td>\n",
       "    </tr>\n",
       "    <tr>\n",
       "      <th>FAVC</th>\n",
       "      <td>22845</td>\n",
       "      <td>2</td>\n",
       "      <td>yes</td>\n",
       "      <td>20826</td>\n",
       "    </tr>\n",
       "    <tr>\n",
       "      <th>CAEC</th>\n",
       "      <td>22845</td>\n",
       "      <td>4</td>\n",
       "      <td>Sometimes</td>\n",
       "      <td>19290</td>\n",
       "    </tr>\n",
       "    <tr>\n",
       "      <th>SMOKE</th>\n",
       "      <td>22845</td>\n",
       "      <td>2</td>\n",
       "      <td>no</td>\n",
       "      <td>22556</td>\n",
       "    </tr>\n",
       "    <tr>\n",
       "      <th>SCC</th>\n",
       "      <td>22845</td>\n",
       "      <td>2</td>\n",
       "      <td>no</td>\n",
       "      <td>22062</td>\n",
       "    </tr>\n",
       "    <tr>\n",
       "      <th>CALC</th>\n",
       "      <td>22845</td>\n",
       "      <td>4</td>\n",
       "      <td>Sometimes</td>\n",
       "      <td>16446</td>\n",
       "    </tr>\n",
       "    <tr>\n",
       "      <th>MTRANS</th>\n",
       "      <td>22845</td>\n",
       "      <td>5</td>\n",
       "      <td>Public_Transportation</td>\n",
       "      <td>18245</td>\n",
       "    </tr>\n",
       "    <tr>\n",
       "      <th>NObeyesdad</th>\n",
       "      <td>22845</td>\n",
       "      <td>7</td>\n",
       "      <td>Obesity_Type_III</td>\n",
       "      <td>4370</td>\n",
       "    </tr>\n",
       "  </tbody>\n",
       "</table>\n",
       "</div>"
      ],
      "text/plain": [
       "                                count unique                    top   freq\n",
       "Gender                          22845      2                 Female  11457\n",
       "family_history_with_overweight  22845      2                    yes  18736\n",
       "FAVC                            22845      2                    yes  20826\n",
       "CAEC                            22845      4              Sometimes  19290\n",
       "SMOKE                           22845      2                     no  22556\n",
       "SCC                             22845      2                     no  22062\n",
       "CALC                            22845      4              Sometimes  16446\n",
       "MTRANS                          22845      5  Public_Transportation  18245\n",
       "NObeyesdad                      22845      7       Obesity_Type_III   4370"
      ]
     },
     "metadata": {},
     "output_type": "display_data"
    },
    {
     "data": {
      "text/plain": [
       "Gender                            0\n",
       "Age                               0\n",
       "Height                            0\n",
       "Weight                            0\n",
       "family_history_with_overweight    0\n",
       "FAVC                              0\n",
       "FCVC                              0\n",
       "NCP                               0\n",
       "CAEC                              0\n",
       "SMOKE                             0\n",
       "CH2O                              0\n",
       "SCC                               0\n",
       "FAF                               0\n",
       "TUE                               0\n",
       "CALC                              0\n",
       "MTRANS                            0\n",
       "NObeyesdad                        0\n",
       "dtype: int64"
      ]
     },
     "metadata": {},
     "output_type": "display_data"
    }
   ],
   "source": [
    "train = pd.read_csv(\"train.csv\", index_col=\"id\")\n",
    "test = pd.read_csv(\"test.csv\", index_col=\"id\")\n",
    "obesity = pd.read_csv(\"ObesityDataSet.csv\")\n",
    "\n",
    "train = pd.concat([train, obesity], axis=0)\n",
    "train = train.drop_duplicates()\n",
    "\n",
    "display(train.shape, train.head(), train.describe(include=[np.number]).T, train.describe(include=[object]).T, train.isna().sum())"
   ]
  },
  {
   "cell_type": "markdown",
   "id": "b761e6e9",
   "metadata": {
    "papermill": {
     "duration": 0.004571,
     "end_time": "2024-02-04T16:41:02.805803",
     "exception": false,
     "start_time": "2024-02-04T16:41:02.801232",
     "status": "completed"
    },
    "tags": []
   },
   "source": [
    "## Data Preprocessing"
   ]
  },
  {
   "cell_type": "code",
   "execution_count": 6,
   "id": "785d7919",
   "metadata": {
    "execution": {
     "iopub.execute_input": "2024-02-04T16:41:02.816501Z",
     "iopub.status.busy": "2024-02-04T16:41:02.815803Z",
     "iopub.status.idle": "2024-02-04T16:41:03.066636Z",
     "shell.execute_reply": "2024-02-04T16:41:03.065716Z"
    },
    "papermill": {
     "duration": 0.258522,
     "end_time": "2024-02-04T16:41:03.068877",
     "exception": false,
     "start_time": "2024-02-04T16:41:02.810355",
     "status": "completed"
    },
    "tags": []
   },
   "outputs": [],
   "source": [
    "preprocess = ColumnTransformer([\n",
    "    (\"onehot\", OneHotEncoder(handle_unknown=\"ignore\"), make_column_selector(dtype_include=object)),\n",
    "    (\"scale\", StandardScaler(), make_column_selector(dtype_include=np.number)),\n",
    "])\n",
    "\n",
    "X_train, y_train = train.drop(\"NObeyesdad\", axis=1), train[\"NObeyesdad\"]\n",
    "\n",
    "preprocess.fit(pd.concat([X_train, test]))\n",
    "X_train = preprocess.transform(X_train)\n",
    "X_test = preprocess.transform(test)\n",
    "\n",
    "label_encoder = LabelEncoder()\n",
    "y_train = label_encoder.fit_transform(y_train)"
   ]
  },
  {
   "cell_type": "markdown",
   "id": "2e59dd1d",
   "metadata": {
    "papermill": {
     "duration": 0.004757,
     "end_time": "2024-02-04T16:41:03.078546",
     "exception": false,
     "start_time": "2024-02-04T16:41:03.073789",
     "status": "completed"
    },
    "tags": []
   },
   "source": [
    "## Model parameters optimization"
   ]
  },
  {
   "cell_type": "code",
   "execution_count": 7,
   "id": "00f7c410",
   "metadata": {
    "execution": {
     "iopub.execute_input": "2024-02-04T16:41:03.089480Z",
     "iopub.status.busy": "2024-02-04T16:41:03.088886Z",
     "iopub.status.idle": "2024-02-04T16:41:03.093421Z",
     "shell.execute_reply": "2024-02-04T16:41:03.092559Z"
    },
    "papermill": {
     "duration": 0.012198,
     "end_time": "2024-02-04T16:41:03.095248",
     "exception": false,
     "start_time": "2024-02-04T16:41:03.083050",
     "status": "completed"
    },
    "tags": []
   },
   "outputs": [
    {
     "ename": "NameError",
     "evalue": "name 'optuna' is not defined",
     "output_type": "error",
     "traceback": [
      "\u001b[1;31m---------------------------------------------------------------------------\u001b[0m",
      "\u001b[1;31mNameError\u001b[0m                                 Traceback (most recent call last)",
      "Cell \u001b[1;32mIn[7], line 18\u001b[0m\n\u001b[0;32m     15\u001b[0m     score \u001b[38;5;241m=\u001b[39m cross_val_score(model, cp\u001b[38;5;241m.\u001b[39marray(X_train), y_train, scoring\u001b[38;5;241m=\u001b[39m\u001b[38;5;124m'\u001b[39m\u001b[38;5;124maccuracy\u001b[39m\u001b[38;5;124m'\u001b[39m, cv\u001b[38;5;241m=\u001b[39m\u001b[38;5;241m5\u001b[39m, n_jobs\u001b[38;5;241m=\u001b[39m\u001b[38;5;241m-\u001b[39m\u001b[38;5;241m1\u001b[39m)\u001b[38;5;241m.\u001b[39mmean()\n\u001b[0;32m     16\u001b[0m     \u001b[38;5;28;01mreturn\u001b[39;00m score\n\u001b[1;32m---> 18\u001b[0m study \u001b[38;5;241m=\u001b[39m optuna\u001b[38;5;241m.\u001b[39mcreate_study(direction\u001b[38;5;241m=\u001b[39m\u001b[38;5;124m'\u001b[39m\u001b[38;5;124mmaximize\u001b[39m\u001b[38;5;124m'\u001b[39m)\n\u001b[0;32m     19\u001b[0m study\u001b[38;5;241m.\u001b[39moptimize(objective, n_trials\u001b[38;5;241m=\u001b[39m\u001b[38;5;241m1500\u001b[39m)\n\u001b[0;32m     21\u001b[0m \u001b[38;5;28mprint\u001b[39m(\u001b[38;5;124m'\u001b[39m\u001b[38;5;124mBest trial:\u001b[39m\u001b[38;5;124m'\u001b[39m, study\u001b[38;5;241m.\u001b[39mbest_trial\u001b[38;5;241m.\u001b[39mparams)\n",
      "\u001b[1;31mNameError\u001b[0m: name 'optuna' is not defined"
     ]
    }
   ],
   "source": [
    "# def objective(trial):\n",
    "#     params = {\n",
    "#         'n_estimators': trial.suggest_int('n_estimators', 10, 5000),\n",
    "#         'learning_rate': trial.suggest_float('learning_rate', 0.01, 0.5, log=True),\n",
    "#         'gamma': trial.suggest_float('gamma', 1e-3, 1, log=True),\n",
    "#         'reg_alpha': trial.suggest_float('reg_alpha', 1e-3, 1, log=True),\n",
    "#         'reg_lambda': trial.suggest_float('reg_lambda', 1e-3, 1, log=True),\n",
    "#         'max_depth': trial.suggest_int('max_depth', 3, 15),\n",
    "#         \"min_child_weight\": trial.suggest_int('min_child_weight', 1, 10),\n",
    "#         'subsample': trial.suggest_float('subsample', 0.5, 1, log=True),\n",
    "#         'colsample_bytree': trial.suggest_float('colsample_bytree', 0.5, 1, log=True),\n",
    "#     }\n",
    "\n",
    "#     model = XGBClassifier(random_state=42, device='cuda', **params)\n",
    "#     score = cross_val_score(model, cp.array(X_train), y_train, scoring='accuracy', cv=5, n_jobs=-1).mean()\n",
    "#     return score\n",
    "\n",
    "# study = optuna.create_study(direction='maximize')\n",
    "# study.optimize(objective, n_trials=1500)\n",
    "\n",
    "# print('Best trial:', study.best_trial.params)\n",
    "# print('Best score:', study.best_value)"
   ]
  },
  {
   "cell_type": "markdown",
   "id": "0bc66d42",
   "metadata": {
    "papermill": {
     "duration": 0.004285,
     "end_time": "2024-02-04T16:41:03.104082",
     "exception": false,
     "start_time": "2024-02-04T16:41:03.099797",
     "status": "completed"
    },
    "tags": []
   },
   "source": [
    "## Model training and evaluation"
   ]
  },
  {
   "cell_type": "code",
   "execution_count": 8,
   "id": "7683b675",
   "metadata": {
    "execution": {
     "iopub.execute_input": "2024-02-04T16:41:03.114397Z",
     "iopub.status.busy": "2024-02-04T16:41:03.113690Z",
     "iopub.status.idle": "2024-02-04T16:43:16.837712Z",
     "shell.execute_reply": "2024-02-04T16:43:16.836768Z"
    },
    "papermill": {
     "duration": 133.731353,
     "end_time": "2024-02-04T16:43:16.839874",
     "exception": false,
     "start_time": "2024-02-04T16:41:03.108521",
     "status": "completed"
    },
    "tags": []
   },
   "outputs": [
    {
     "name": "stdout",
     "output_type": "stream",
     "text": [
      "Accuracy:  0.9147297001532063\n"
     ]
    },
    {
     "data": {
      "text/html": [
       "<style>#sk-container-id-1 {color: black;background-color: white;}#sk-container-id-1 pre{padding: 0;}#sk-container-id-1 div.sk-toggleable {background-color: white;}#sk-container-id-1 label.sk-toggleable__label {cursor: pointer;display: block;width: 100%;margin-bottom: 0;padding: 0.3em;box-sizing: border-box;text-align: center;}#sk-container-id-1 label.sk-toggleable__label-arrow:before {content: \"▸\";float: left;margin-right: 0.25em;color: #696969;}#sk-container-id-1 label.sk-toggleable__label-arrow:hover:before {color: black;}#sk-container-id-1 div.sk-estimator:hover label.sk-toggleable__label-arrow:before {color: black;}#sk-container-id-1 div.sk-toggleable__content {max-height: 0;max-width: 0;overflow: hidden;text-align: left;background-color: #f0f8ff;}#sk-container-id-1 div.sk-toggleable__content pre {margin: 0.2em;color: black;border-radius: 0.25em;background-color: #f0f8ff;}#sk-container-id-1 input.sk-toggleable__control:checked~div.sk-toggleable__content {max-height: 200px;max-width: 100%;overflow: auto;}#sk-container-id-1 input.sk-toggleable__control:checked~label.sk-toggleable__label-arrow:before {content: \"▾\";}#sk-container-id-1 div.sk-estimator input.sk-toggleable__control:checked~label.sk-toggleable__label {background-color: #d4ebff;}#sk-container-id-1 div.sk-label input.sk-toggleable__control:checked~label.sk-toggleable__label {background-color: #d4ebff;}#sk-container-id-1 input.sk-hidden--visually {border: 0;clip: rect(1px 1px 1px 1px);clip: rect(1px, 1px, 1px, 1px);height: 1px;margin: -1px;overflow: hidden;padding: 0;position: absolute;width: 1px;}#sk-container-id-1 div.sk-estimator {font-family: monospace;background-color: #f0f8ff;border: 1px dotted black;border-radius: 0.25em;box-sizing: border-box;margin-bottom: 0.5em;}#sk-container-id-1 div.sk-estimator:hover {background-color: #d4ebff;}#sk-container-id-1 div.sk-parallel-item::after {content: \"\";width: 100%;border-bottom: 1px solid gray;flex-grow: 1;}#sk-container-id-1 div.sk-label:hover label.sk-toggleable__label {background-color: #d4ebff;}#sk-container-id-1 div.sk-serial::before {content: \"\";position: absolute;border-left: 1px solid gray;box-sizing: border-box;top: 0;bottom: 0;left: 50%;z-index: 0;}#sk-container-id-1 div.sk-serial {display: flex;flex-direction: column;align-items: center;background-color: white;padding-right: 0.2em;padding-left: 0.2em;position: relative;}#sk-container-id-1 div.sk-item {position: relative;z-index: 1;}#sk-container-id-1 div.sk-parallel {display: flex;align-items: stretch;justify-content: center;background-color: white;position: relative;}#sk-container-id-1 div.sk-item::before, #sk-container-id-1 div.sk-parallel-item::before {content: \"\";position: absolute;border-left: 1px solid gray;box-sizing: border-box;top: 0;bottom: 0;left: 50%;z-index: -1;}#sk-container-id-1 div.sk-parallel-item {display: flex;flex-direction: column;z-index: 1;position: relative;background-color: white;}#sk-container-id-1 div.sk-parallel-item:first-child::after {align-self: flex-end;width: 50%;}#sk-container-id-1 div.sk-parallel-item:last-child::after {align-self: flex-start;width: 50%;}#sk-container-id-1 div.sk-parallel-item:only-child::after {width: 0;}#sk-container-id-1 div.sk-dashed-wrapped {border: 1px dashed gray;margin: 0 0.4em 0.5em 0.4em;box-sizing: border-box;padding-bottom: 0.4em;background-color: white;}#sk-container-id-1 div.sk-label label {font-family: monospace;font-weight: bold;display: inline-block;line-height: 1.2em;}#sk-container-id-1 div.sk-label-container {text-align: center;}#sk-container-id-1 div.sk-container {/* jupyter's `normalize.less` sets `[hidden] { display: none; }` but bootstrap.min.css set `[hidden] { display: none !important; }` so we also need the `!important` here to be able to override the default hidden behavior on the sphinx rendered scikit-learn.org. See: https://github.com/scikit-learn/scikit-learn/issues/21755 */display: inline-block !important;position: relative;}#sk-container-id-1 div.sk-text-repr-fallback {display: none;}</style><div id=\"sk-container-id-1\" class=\"sk-top-container\"><div class=\"sk-text-repr-fallback\"><pre>XGBClassifier(base_score=None, booster=None, callbacks=None,\n",
       "              colsample_bylevel=None, colsample_bynode=None,\n",
       "              colsample_bytree=0.6579828557036317, early_stopping_rounds=None,\n",
       "              enable_categorical=False, eval_metric=None, feature_types=None,\n",
       "              gamma=0.0024196354156454324, gpu_id=None, grow_policy=None,\n",
       "              importance_type=None, interaction_constraints=None,\n",
       "              learning_rate=0.018279520260162645, max_bin=None,\n",
       "              max_cat_threshold=None, max_cat_to_onehot=None,\n",
       "              max_delta_step=None, max_depth=5, max_leaves=None,\n",
       "              min_child_weight=5, missing=nan, monotone_constraints=None,\n",
       "              n_estimators=1312, n_jobs=None, num_parallel_tree=None,\n",
       "              objective=&#x27;multi:softprob&#x27;, predictor=None, ...)</pre><b>In a Jupyter environment, please rerun this cell to show the HTML representation or trust the notebook. <br />On GitHub, the HTML representation is unable to render, please try loading this page with nbviewer.org.</b></div><div class=\"sk-container\" hidden><div class=\"sk-item\"><div class=\"sk-estimator sk-toggleable\"><input class=\"sk-toggleable__control sk-hidden--visually\" id=\"sk-estimator-id-1\" type=\"checkbox\" checked><label for=\"sk-estimator-id-1\" class=\"sk-toggleable__label sk-toggleable__label-arrow\">XGBClassifier</label><div class=\"sk-toggleable__content\"><pre>XGBClassifier(base_score=None, booster=None, callbacks=None,\n",
       "              colsample_bylevel=None, colsample_bynode=None,\n",
       "              colsample_bytree=0.6579828557036317, early_stopping_rounds=None,\n",
       "              enable_categorical=False, eval_metric=None, feature_types=None,\n",
       "              gamma=0.0024196354156454324, gpu_id=None, grow_policy=None,\n",
       "              importance_type=None, interaction_constraints=None,\n",
       "              learning_rate=0.018279520260162645, max_bin=None,\n",
       "              max_cat_threshold=None, max_cat_to_onehot=None,\n",
       "              max_delta_step=None, max_depth=5, max_leaves=None,\n",
       "              min_child_weight=5, missing=nan, monotone_constraints=None,\n",
       "              n_estimators=1312, n_jobs=None, num_parallel_tree=None,\n",
       "              objective=&#x27;multi:softprob&#x27;, predictor=None, ...)</pre></div></div></div></div></div>"
      ],
      "text/plain": [
       "XGBClassifier(base_score=None, booster=None, callbacks=None,\n",
       "              colsample_bylevel=None, colsample_bynode=None,\n",
       "              colsample_bytree=0.6579828557036317, early_stopping_rounds=None,\n",
       "              enable_categorical=False, eval_metric=None, feature_types=None,\n",
       "              gamma=0.0024196354156454324, gpu_id=None, grow_policy=None,\n",
       "              importance_type=None, interaction_constraints=None,\n",
       "              learning_rate=0.018279520260162645, max_bin=None,\n",
       "              max_cat_threshold=None, max_cat_to_onehot=None,\n",
       "              max_delta_step=None, max_depth=5, max_leaves=None,\n",
       "              min_child_weight=5, missing=nan, monotone_constraints=None,\n",
       "              n_estimators=1312, n_jobs=None, num_parallel_tree=None,\n",
       "              objective='multi:softprob', predictor=None, ...)"
      ]
     },
     "execution_count": 8,
     "metadata": {},
     "output_type": "execute_result"
    }
   ],
   "source": [
    "# params = study.best_trial.params\n",
    "params = {'n_estimators': 1312, 'learning_rate': 0.018279520260162645, 'gamma': 0.0024196354156454324, 'reg_alpha': 0.9025931173755949, 'reg_lambda': 0.06835667255875388, 'max_depth': 5, 'min_child_weight': 5, 'subsample': 0.883274050086088, 'colsample_bytree': 0.6579828557036317}\n",
    "xgb = XGBClassifier(random_state=42, **params)\n",
    "\n",
    "score = cross_val_score(xgb, X_train, y_train, scoring='accuracy', cv=5, n_jobs=-1).mean()\n",
    "print(\"Accuracy: \", score)\n",
    "\n",
    "xgb.fit(X_train, y_train)"
   ]
  },
  {
   "cell_type": "markdown",
   "id": "92273960",
   "metadata": {
    "papermill": {
     "duration": 0.004782,
     "end_time": "2024-02-04T16:43:16.849859",
     "exception": false,
     "start_time": "2024-02-04T16:43:16.845077",
     "status": "completed"
    },
    "tags": []
   },
   "source": [
    "## Model prediction"
   ]
  },
  {
   "cell_type": "code",
   "execution_count": 10,
   "id": "496630c3",
   "metadata": {
    "execution": {
     "iopub.execute_input": "2024-02-04T16:43:16.861272Z",
     "iopub.status.busy": "2024-02-04T16:43:16.860623Z",
     "iopub.status.idle": "2024-02-04T16:43:17.094854Z",
     "shell.execute_reply": "2024-02-04T16:43:17.094071Z"
    },
    "papermill": {
     "duration": 0.242402,
     "end_time": "2024-02-04T16:43:17.097127",
     "exception": false,
     "start_time": "2024-02-04T16:43:16.854725",
     "status": "completed"
    },
    "tags": []
   },
   "outputs": [],
   "source": [
    "y_pred = xgb.predict(X_test)\n",
    "y_pred = label_encoder.inverse_transform(y_pred)\n",
    "\n",
    "submission = pd.DataFrame({\"id\": test.index, \"NObeyesdad\": y_pred})\n",
    "submission.to_csv(\"vatsalsubmission.csv\", index=False)"
   ]
  }
 ],
 "metadata": {
  "kaggle": {
   "accelerator": "gpu",
   "dataSources": [
    {
     "databundleVersionId": 7609535,
     "sourceId": 68479,
     "sourceType": "competition"
    },
    {
     "datasetId": 4030196,
     "sourceId": 7009925,
     "sourceType": "datasetVersion"
    }
   ],
   "dockerImageVersionId": 30648,
   "isGpuEnabled": true,
   "isInternetEnabled": true,
   "language": "python",
   "sourceType": "notebook"
  },
  "kernelspec": {
   "display_name": "Python 3",
   "language": "python",
   "name": "python3"
  },
  "language_info": {
   "codemirror_mode": {
    "name": "ipython",
    "version": 3
   },
   "file_extension": ".py",
   "mimetype": "text/x-python",
   "name": "python",
   "nbconvert_exporter": "python",
   "pygments_lexer": "ipython3",
   "version": "3.11.7"
  },
  "papermill": {
   "default_parameters": {},
   "duration": 144.594455,
   "end_time": "2024-02-04T16:43:19.721808",
   "environment_variables": {},
   "exception": null,
   "input_path": "__notebook__.ipynb",
   "output_path": "__notebook__.ipynb",
   "parameters": {},
   "start_time": "2024-02-04T16:40:55.127353",
   "version": "2.5.0"
  }
 },
 "nbformat": 4,
 "nbformat_minor": 5
}
